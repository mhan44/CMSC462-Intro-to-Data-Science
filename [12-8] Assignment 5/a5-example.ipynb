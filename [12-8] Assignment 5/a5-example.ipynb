{
 "cells": [
  {
   "cell_type": "code",
   "execution_count": 6,
   "id": "809c33c6",
   "metadata": {},
   "outputs": [
    {
     "data": {
      "text/html": [
       "<script>Jupyter.notebook.kernel.restart()</script>"
      ],
      "text/plain": [
       "<IPython.core.display.HTML object>"
      ]
     },
     "execution_count": 6,
     "metadata": {},
     "output_type": "execute_result"
    }
   ],
   "source": [
    "#The following command resets the environment\n",
    "from IPython.core.display import HTML\n",
    "HTML(\"<script>Jupyter.notebook.kernel.restart()</script>\")"
   ]
  },
  {
   "cell_type": "code",
   "execution_count": 4,
   "id": "94aad92d",
   "metadata": {},
   "outputs": [
    {
     "data": {
      "application/javascript": [
       "Jupyter.notebook.clear_all_output()"
      ],
      "text/plain": [
       "<IPython.core.display.Javascript object>"
      ]
     },
     "metadata": {},
     "output_type": "display_data"
    }
   ],
   "source": [
    "#The following command resets the environment\n",
    "from IPython.display import display, Javascript\n",
    "\n",
    "def clear_all_outputs():\n",
    "    display(Javascript('Jupyter.notebook.clear_all_output()'))\n",
    "\n",
    "clear_all_outputs()"
   ]
  },
  {
   "cell_type": "code",
   "execution_count": 8,
   "id": "2704c428",
   "metadata": {},
   "outputs": [
    {
     "ename": "ModuleNotFoundError",
     "evalue": "No module named 'pymongo'",
     "output_type": "error",
     "traceback": [
      "\u001b[1;31m---------------------------------------------------------------------------\u001b[0m",
      "\u001b[1;31mModuleNotFoundError\u001b[0m                       Traceback (most recent call last)",
      "Cell \u001b[1;32mIn[8], line 1\u001b[0m\n\u001b[1;32m----> 1\u001b[0m \u001b[38;5;28;01mfrom\u001b[39;00m \u001b[38;5;21;01mpymongo\u001b[39;00m \u001b[38;5;28;01mimport\u001b[39;00m MongoClient\n\u001b[0;32m      2\u001b[0m \u001b[38;5;28;01mimport\u001b[39;00m \u001b[38;5;21;01mpprint\u001b[39;00m\n\u001b[0;32m      3\u001b[0m \u001b[38;5;28;01mimport\u001b[39;00m \u001b[38;5;21;01mpymongo\u001b[39;00m\n",
      "\u001b[1;31mModuleNotFoundError\u001b[0m: No module named 'pymongo'"
     ]
    }
   ],
   "source": [
    "from pymongo import MongoClient\n",
    "import pprint\n",
    "import pymongo\n",
    "import pandas as pd\n",
    "import datetime\n",
    "from bson.code import Code"
   ]
  },
  {
   "cell_type": "code",
   "execution_count": null,
   "id": "b3eca9db",
   "metadata": {},
   "outputs": [],
   "source": [
    "try:\n",
    "    client = MongoClient(\"mongodb://localhost:27017/\")\n",
    "    client.drop_database(\"Mongo_database\")\n",
    "except Exception as e:\n",
    "    print(e)"
   ]
  },
  {
   "cell_type": "code",
   "execution_count": null,
   "id": "1b190e9c",
   "metadata": {},
   "outputs": [],
   "source": [
    "try:\n",
    "    #Create database\n",
    "    db=client.get_database(\"Mongo_database\")\n",
    "except Exception as e:\n",
    "    print(e)\n",
    " "
   ]
  },
  {
   "cell_type": "code",
   "execution_count": null,
   "id": "c169fab1",
   "metadata": {},
   "outputs": [],
   "source": [
    "#this would list an empty list, since no data in the collection\n",
    "db.list_collection_names()"
   ]
  },
  {
   "cell_type": "code",
   "execution_count": null,
   "id": "a4ec1a6a",
   "metadata": {},
   "outputs": [],
   "source": [
    "#create a collection myMovies\n",
    "myMovies = db['myMovies']\n",
    "db.list_collection_names()"
   ]
  },
  {
   "cell_type": "code",
   "execution_count": null,
   "id": "c0058eea",
   "metadata": {},
   "outputs": [],
   "source": [
    "db.myMovies.insert_one({\"name\":\"Harry Potter\", \"genre\": \"Fiction\", \"rating\": \"90\"})\n",
    "db.myMovies.insert_one({ \"name\": \"Minions\", \"genre\": \"Animation\", \"rating\": \"96\"}) \n",
    "db.myMovies.insert_one({ \"name\": \"The Grinch\", \"genre\": \"Comedy\", \"rating\": \"83\"}) \n",
    "db.myMovies.insert_one({ \"name\": \"Star War\", \"genre\": \"Sci-Fic\", \"rating\": \"95\"})\n",
    "db.myMovies.insert_one({ \"name\": \"Mission Impossible\", \"genre\": \"Action\", \"rating\": \"78\"})\n",
    "\n",
    "# OR alternatively,\n",
    "\n",
    "# movie_list = [\n",
    "#     {\"name\":\"Harry Potter\", \"genre\": \"Fiction\", \"rating\": \"90\"},\n",
    "#     { \"name\": \"Minions\", \"genre\": \"Animation\", \"rating\": \"96\"},\n",
    "#     { \"name\": \"The Grinch\", \"genre\": \"Comedy\", \"rating\": \"83\"},\n",
    "#     { \"name\": \"Star War\", \"genre\": \"Sci-Fic\", \"rating\": \"95\"},\n",
    "#     { \"name\": \"Mission Impossible\", \"genre\": \"Action\", \"rating\": \"78\"}\n",
    "# ]\n",
    "# db.movies.insert_many(movie_list)"
   ]
  },
  {
   "cell_type": "code",
   "execution_count": null,
   "id": "44d0ee1f",
   "metadata": {},
   "outputs": [],
   "source": [
    "db.list_collection_names()"
   ]
  },
  {
   "cell_type": "markdown",
   "id": "7c8220df",
   "metadata": {},
   "source": [
    " "
   ]
  },
  {
   "cell_type": "code",
   "execution_count": null,
   "id": "bcecc31c",
   "metadata": {},
   "outputs": [],
   "source": [
    "for movie in myMovies.find():\n",
    "    pprint.pprint(movie)"
   ]
  },
  {
   "cell_type": "code",
   "execution_count": null,
   "id": "0ffa2e68",
   "metadata": {},
   "outputs": [],
   "source": [
    "pprint.pprint(myMovies.find_one({\"name\": \"Star War\"}))"
   ]
  },
  {
   "cell_type": "code",
   "execution_count": null,
   "id": "8d10f602",
   "metadata": {},
   "outputs": [],
   "source": [
    "top_movies = db.myMovies.find().limit(3).sort('rating', -1)\n",
    "for movie in top_movies:\n",
    "    pprint.pprint(movie)"
   ]
  },
  {
   "cell_type": "markdown",
   "id": "7ba9697a",
   "metadata": {},
   "source": [
    " "
   ]
  },
  {
   "cell_type": "markdown",
   "id": "5abf5d30",
   "metadata": {},
   "source": [
    "##### Add 'review' attribute and its value to 2 of the movies"
   ]
  },
  {
   "cell_type": "code",
   "execution_count": null,
   "id": "153786ef",
   "metadata": {},
   "outputs": [],
   "source": [
    "movie = db.myMovies.find_one({'name':\"Minions\"})\n",
    "movie['review'] = \"minion moview review\"\n",
    "db.myMovies.replace_one({'name':\"Minions\"}, movie)\n",
    "pprint.pprint(myMovies.find_one({\"name\": \"Minions\"}))"
   ]
  },
  {
   "cell_type": "code",
   "execution_count": null,
   "id": "2e280c99",
   "metadata": {},
   "outputs": [],
   "source": [
    "try:\n",
    "    movie = db.myMovies.find_one({'name':\"Star War\"})\n",
    "    movie['review'] = \"star war amazing science fiction movie\"\n",
    "    db.myMovies.replace_one({'name':\"Star War\"}, movie)\n",
    "    pprint.pprint(myMovies.find_one({\"name\": \"Star War\"}))\n",
    "except Exception as e:\n",
    "    print(e)"
   ]
  },
  {
   "cell_type": "markdown",
   "id": "c026c3d4",
   "metadata": {},
   "source": [
    "#### Update 'rating' of one of the movie"
   ]
  },
  {
   "cell_type": "code",
   "execution_count": null,
   "id": "ffa66b87",
   "metadata": {},
   "outputs": [],
   "source": [
    "movie = db.myMovies.find_one({'name':\"Mission Impossible\"})\n",
    "movie['rating'] = \"100\"\n",
    "db.myMovies.replace_one({'name':\"Mission Impossible\"}, movie)\n",
    "pprint.pprint(myMovies.find_one({\"name\": \"Mission Impossible\"}))"
   ]
  },
  {
   "cell_type": "code",
   "execution_count": null,
   "id": "11535805",
   "metadata": {},
   "outputs": [],
   "source": [
    " pprint.pprint(myMovies.find_one({\"name\": \"Mission Impossible\"}))\n"
   ]
  },
  {
   "cell_type": "code",
   "execution_count": null,
   "id": "0f7a66bf",
   "metadata": {},
   "outputs": [],
   "source": []
  }
 ],
 "metadata": {
  "kernelspec": {
   "display_name": "Python 3 (ipykernel)",
   "language": "python",
   "name": "python3"
  },
  "language_info": {
   "codemirror_mode": {
    "name": "ipython",
    "version": 3
   },
   "file_extension": ".py",
   "mimetype": "text/x-python",
   "name": "python",
   "nbconvert_exporter": "python",
   "pygments_lexer": "ipython3",
   "version": "3.12.4"
  }
 },
 "nbformat": 4,
 "nbformat_minor": 5
}
